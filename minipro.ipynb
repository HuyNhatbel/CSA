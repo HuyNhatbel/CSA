{
 "cells": [
  {
   "cell_type": "markdown",
   "id": "a05698f1",
   "metadata": {},
   "source": [
    "## Đặt phát biểu vấn đề\n",
    "- Liệt kê 3 lĩnh vực hoặc nguồn dữ liệu mà bạn quan tâm\n",
    " + Dữ liệu mạng xẫ hội\n",
    " + Khoa học và Công nghệ\n",
    " + Môi trường\n",
    "- Dẫn link một số trang web chia sẻ dữ liệu:\n",
    " + data.worldbank.org (World Bank Open Data)\n",
    " + kaggle.com (Kaggle)\n",
    " + statista.com (Statista)\n",
    "-------------------\n",
    "## Đặt câu hỏi thống kê\n",
    "- Vấn đề bạn đang quan tâm?\n",
    " + Làm sao các bài post có thể kiếm được nhiều lượt tương tác?\n",
    " + Xu hướng công nghệ nào đã được ứng dụng nhiều nhất trong 5 năm trở lại đây?\n",
    " + Xu hướng của việc trồng cây gây rừng thay đổi như thế nào theo từng năm tại các thành phố và nông thôn?\n",
    "- Lập 2 câu hỏi thống kê về vấn đề mà bạn quan tâm \n",
    " + Mạng xã hội\n",
    "  a/ Có sự khác biệt đáng kể về lượt tương tác trung bình giữa các bài post có gắn hình ảnh/video so với chỉ có văn bản không?\n",
    "  b/ Thời gian đăng bài (sáng, trưa, tối) có ảnh hưởng đến số lượt tương tác trung bình không?\n",
    " + Khoa học và Công nghệ\n",
    "  a/ Trong 5 năm qua, lĩnh vực nào (AI, công nghệ sinh học, năng lượng tái tạo, v.v.) có tốc độ tăng trưởng số lượng công bố khoa học nhanh nhất?\n",
    "  b/ Số lượng bằng sáng chế công nghệ mới hàng năm có tăng đều đặn qua từng năm hay không?\n",
    " + Môi trường\n",
    "  a/ Số lượng cây trồng mới ở khu vực thành phố và nông thôn có sự khác biệt đáng kể theo từng năm không?\n",
    "  b/ Tốc độ gia tăng diện tích rừng được trồng lại có mối tương quan với mức độ ô nhiễm không khí hay không?\n",
    "- Sử dụng AI để hỗ trợ đặt câu hỏi"
   ]
  },
  {
   "cell_type": "markdown",
   "id": "7ab9bb0b",
   "metadata": {},
   "source": [
    "## Dữ liệu\n",
    "- Link dataset\n",
    "- Sử dụng dữ liệu từ cột nào tro"
   ]
  }
 ],
 "metadata": {
  "language_info": {
   "name": "python"
  }
 },
 "nbformat": 4,
 "nbformat_minor": 5
}
