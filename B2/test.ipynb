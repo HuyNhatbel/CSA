{
 "cells": [
  {
   "cell_type": "code",
   "execution_count": 2,
   "id": "ecbdd562",
   "metadata": {},
   "outputs": [],
   "source": [
    "import pandas as pd\n",
    "import numpy as np\n",
    "from matplotlib import pyplot as plt"
   ]
  },
  {
   "cell_type": "code",
   "execution_count": 3,
   "id": "9f41c303",
   "metadata": {},
   "outputs": [],
   "source": [
    "df = pd.DataFrame(\n",
    "    {\n",
    "        \"Name\": [\n",
    "            \"Braund, Mr. Owen Harris\",\n",
    "            \"Allen, Mr. William Henry\",\n",
    "            \"Bonnell, Miss. Elizabeth\",\n",
    "        ],\n",
    "        \"Age\": [22, 35, 58],\n",
    "        \"Sex\": [\"male\", \"male\", \"female\"],\n",
    "    }\n",
    ")"
   ]
  },
  {
   "cell_type": "code",
   "execution_count": 4,
   "id": "e496d72d",
   "metadata": {},
   "outputs": [
    {
     "data": {
      "text/plain": [
       "count         6.000000\n",
       "mean      25607.333333\n",
       "std       40490.458069\n",
       "min           0.000000\n",
       "25%         853.500000\n",
       "50%        3757.000000\n",
       "75%       35622.500000\n",
       "max      100000.000000\n",
       "Name: Bank Accounts, dtype: float64"
      ]
     },
     "execution_count": 4,
     "metadata": {},
     "output_type": "execute_result"
    }
   ],
   "source": [
    "bank_accounts = pd.Series([2514, 45830, 100000, 0, 5000, 300], name=\"Bank Accounts\")\n",
    "bank_accounts.describe()"
   ]
  },
  {
   "cell_type": "code",
   "execution_count": null,
   "id": "f567da99",
   "metadata": {},
   "outputs": [],
   "source": []
  }
 ],
 "metadata": {
  "kernelspec": {
   "display_name": ".venv",
   "language": "python",
   "name": "python3"
  },
  "language_info": {
   "codemirror_mode": {
    "name": "ipython",
    "version": 3
   },
   "file_extension": ".py",
   "mimetype": "text/x-python",
   "name": "python",
   "nbconvert_exporter": "python",
   "pygments_lexer": "ipython3",
   "version": "3.11.9"
  }
 },
 "nbformat": 4,
 "nbformat_minor": 5
}
