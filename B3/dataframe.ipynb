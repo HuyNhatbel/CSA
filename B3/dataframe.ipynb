{
 "cells": [
  {
   "cell_type": "code",
   "execution_count": 1,
   "id": "3c27d820",
   "metadata": {},
   "outputs": [
    {
     "data": {
      "text/plain": [
       "{'tên': ['Áo thun',\n",
       "  'Quần jean',\n",
       "  'Giày sneaker',\n",
       "  'Balo laptop',\n",
       "  'Mũ lưỡi trai'],\n",
       " 'giá bán': [150000, 350000, 1200000, 500000, 100000],\n",
       " 'ngày tạo': ['2025-09-01',\n",
       "  '2025-09-05',\n",
       "  '2025-09-10',\n",
       "  '2025-09-15',\n",
       "  '2025-09-20'],\n",
       " 'category': ['Thời trang',\n",
       "  'Thời trang',\n",
       "  'Phụ kiện',\n",
       "  'Phụ kiện',\n",
       "  'Thời trang']}"
      ]
     },
     "execution_count": 1,
     "metadata": {},
     "output_type": "execute_result"
    }
   ],
   "source": [
    "# data\n",
    "products = {\n",
    "    \"tên\": [\"Áo thun\", \"Quần jean\", \"Giày sneaker\", \"Balo laptop\", \"Mũ lưỡi trai\"],\n",
    "    \"giá bán\": [150000, 350000, 1200000, 500000, 100000],\n",
    "    \"ngày tạo\": [\"2025-09-01\", \"2025-09-05\", \"2025-09-10\", \"2025-09-15\", \"2025-09-20\"],\n",
    "    \"category\": [\"Thời trang\", \"Thời trang\", \"Phụ kiện\", \"Phụ kiện\", \"Thời trang\"]\n",
    "}\n",
    "products"
   ]
  },
  {
   "cell_type": "markdown",
   "id": "60ef6430",
   "metadata": {},
   "source": [
    "## Tạo csv với pandas\n",
    "- Chuyển dữ liệu dict -> dataframe\n",
    "- Dùng hàm to_csv()"
   ]
  },
  {
   "cell_type": "code",
   "execution_count": 2,
   "id": "b58392f0",
   "metadata": {},
   "outputs": [],
   "source": [
    "import pandas as pd\n",
    "\n",
    "df = pd.DataFrame(products)\n",
    "df.to_csv(\"products.csv\", index=True)"
   ]
  },
  {
   "cell_type": "markdown",
   "id": "e7c498fa",
   "metadata": {},
   "source": [
    "## Đọc csv với pandas\n",
    "- Khi trả về -> dataframe\n",
    "- Dùng các hàm hỗ trợ để in thông tin của bảng dữ liệu\n",
    "    - info\n",
    "    - describe\n",
    "    - shape + dtypes {bien}\n",
    "    - head() + tail()"
   ]
  },
  {
   "cell_type": "code",
   "execution_count": 3,
   "id": "cf43001a",
   "metadata": {},
   "outputs": [
    {
     "name": "stdout",
     "output_type": "stream",
     "text": [
      "   Unnamed: 0           tên  giá bán    ngày tạo    category\n",
      "0           0       Áo thun   150000  2025-09-01  Thời trang\n",
      "1           1     Quần jean   350000  2025-09-05  Thời trang\n",
      "2           2  Giày sneaker  1200000  2025-09-10    Phụ kiện\n",
      "3           3   Balo laptop   500000  2025-09-15    Phụ kiện\n",
      "4           4  Mũ lưỡi trai   100000  2025-09-20  Thời trang\n",
      "Info: ----------------------\n",
      "<class 'pandas.core.frame.DataFrame'>\n",
      "RangeIndex: 5 entries, 0 to 4\n",
      "Data columns (total 5 columns):\n",
      " #   Column      Non-Null Count  Dtype \n",
      "---  ------      --------------  ----- \n",
      " 0   Unnamed: 0  5 non-null      int64 \n",
      " 1   tên         5 non-null      object\n",
      " 2   giá bán     5 non-null      int64 \n",
      " 3   ngày tạo    5 non-null      object\n",
      " 4   category    5 non-null      object\n",
      "dtypes: int64(2), object(3)\n",
      "memory usage: 332.0+ bytes\n",
      "None\n",
      "Describe: ----------------------\n",
      "       Unnamed: 0       giá bán\n",
      "count    5.000000  5.000000e+00\n",
      "mean     2.000000  4.600000e+05\n",
      "std      1.581139  4.435651e+05\n",
      "min      0.000000  1.000000e+05\n",
      "25%      1.000000  1.500000e+05\n",
      "50%      2.000000  3.500000e+05\n",
      "75%      3.000000  5.000000e+05\n",
      "max      4.000000  1.200000e+06\n",
      "Shape: ----------------------\n",
      "(5, 5)\n",
      "dtypes: ----------------------\n",
      "Unnamed: 0     int64\n",
      "tên           object\n",
      "giá bán        int64\n",
      "ngày tạo      object\n",
      "category      object\n",
      "dtype: object\n",
      "head: ----------------------\n",
      "   Unnamed: 0      tên  giá bán    ngày tạo    category\n",
      "0           0  Áo thun   150000  2025-09-01  Thời trang\n",
      "tail: ----------------------\n",
      "   Unnamed: 0           tên  giá bán    ngày tạo    category\n",
      "3           3   Balo laptop   500000  2025-09-15    Phụ kiện\n",
      "4           4  Mũ lưỡi trai   100000  2025-09-20  Thời trang\n"
     ]
    }
   ],
   "source": [
    "try:\n",
    "    df_from_csv = pd.read_csv(\"products.csv\")\n",
    "    print(df_from_csv)\n",
    "    print(\"Info: ----------------------\")\n",
    "    print(df_from_csv.info())\n",
    "    print(\"Describe: ----------------------\")\n",
    "    print(df_from_csv.describe())\n",
    "    print(\"Shape: ----------------------\")\n",
    "    print(df_from_csv.shape)\n",
    "    print(\"dtypes: ----------------------\")\n",
    "    print(df_from_csv.dtypes)\n",
    "    print(\"head: ----------------------\")\n",
    "    print(df_from_csv.head(1))\n",
    "    print(\"tail: ----------------------\")\n",
    "    print(df_from_csv.tail(2))\n",
    "except Exception as e:\n",
    "    print(\"Loi:\", e)"
   ]
  },
  {
   "cell_type": "markdown",
   "id": "08aec989",
   "metadata": {},
   "source": [
    "# Lọc dữ liệu"
   ]
  },
  {
   "cell_type": "markdown",
   "id": "852028c2",
   "metadata": {},
   "source": [
    "## Lọc cột\n",
    "- `<ten_dataframe>['<ten cot>']`"
   ]
  },
  {
   "cell_type": "code",
   "execution_count": 10,
   "id": "60689822",
   "metadata": {},
   "outputs": [
    {
     "data": {
      "text/html": [
       "<div>\n",
       "<style scoped>\n",
       "    .dataframe tbody tr th:only-of-type {\n",
       "        vertical-align: middle;\n",
       "    }\n",
       "\n",
       "    .dataframe tbody tr th {\n",
       "        vertical-align: top;\n",
       "    }\n",
       "\n",
       "    .dataframe thead th {\n",
       "        text-align: right;\n",
       "    }\n",
       "</style>\n",
       "<table border=\"1\" class=\"dataframe\">\n",
       "  <thead>\n",
       "    <tr style=\"text-align: right;\">\n",
       "      <th></th>\n",
       "      <th>tên</th>\n",
       "      <th>category</th>\n",
       "    </tr>\n",
       "  </thead>\n",
       "  <tbody>\n",
       "    <tr>\n",
       "      <th>0</th>\n",
       "      <td>Áo thun</td>\n",
       "      <td>Thời trang</td>\n",
       "    </tr>\n",
       "    <tr>\n",
       "      <th>1</th>\n",
       "      <td>Quần jean</td>\n",
       "      <td>Thời trang</td>\n",
       "    </tr>\n",
       "    <tr>\n",
       "      <th>2</th>\n",
       "      <td>Giày sneaker</td>\n",
       "      <td>Phụ kiện</td>\n",
       "    </tr>\n",
       "    <tr>\n",
       "      <th>3</th>\n",
       "      <td>Balo laptop</td>\n",
       "      <td>Phụ kiện</td>\n",
       "    </tr>\n",
       "  </tbody>\n",
       "</table>\n",
       "</div>"
      ],
      "text/plain": [
       "            tên    category\n",
       "0       Áo thun  Thời trang\n",
       "1     Quần jean  Thời trang\n",
       "2  Giày sneaker    Phụ kiện\n",
       "3   Balo laptop    Phụ kiện"
      ]
     },
     "execution_count": 10,
     "metadata": {},
     "output_type": "execute_result"
    }
   ],
   "source": [
    "new_data = df_from_csv[[\"tên\", \"category\"]]\n",
    "new_data[df_from_csv[\"giá bán\"] > 100000]"
   ]
  },
  {
   "cell_type": "markdown",
   "id": "c55c59a2",
   "metadata": {},
   "source": [
    "## Lọc hàng\n",
    "- `slice [start: stop: step]`\n",
    "- Bỏ start: 0\n",
    "- Bỏ stop: length - 1 (Lấy tới cuối cùng)\n",
    "- Bỏ step: 1"
   ]
  },
  {
   "cell_type": "code",
   "execution_count": 12,
   "id": "a0bff7a6",
   "metadata": {},
   "outputs": [
    {
     "data": {
      "text/html": [
       "<div>\n",
       "<style scoped>\n",
       "    .dataframe tbody tr th:only-of-type {\n",
       "        vertical-align: middle;\n",
       "    }\n",
       "\n",
       "    .dataframe tbody tr th {\n",
       "        vertical-align: top;\n",
       "    }\n",
       "\n",
       "    .dataframe thead th {\n",
       "        text-align: right;\n",
       "    }\n",
       "</style>\n",
       "<table border=\"1\" class=\"dataframe\">\n",
       "  <thead>\n",
       "    <tr style=\"text-align: right;\">\n",
       "      <th></th>\n",
       "      <th>Unnamed: 0</th>\n",
       "      <th>tên</th>\n",
       "      <th>giá bán</th>\n",
       "      <th>ngày tạo</th>\n",
       "      <th>category</th>\n",
       "    </tr>\n",
       "  </thead>\n",
       "  <tbody>\n",
       "    <tr>\n",
       "      <th>0</th>\n",
       "      <td>0</td>\n",
       "      <td>Áo thun</td>\n",
       "      <td>150000</td>\n",
       "      <td>2025-09-01</td>\n",
       "      <td>Thời trang</td>\n",
       "    </tr>\n",
       "    <tr>\n",
       "      <th>1</th>\n",
       "      <td>1</td>\n",
       "      <td>Quần jean</td>\n",
       "      <td>350000</td>\n",
       "      <td>2025-09-05</td>\n",
       "      <td>Thời trang</td>\n",
       "    </tr>\n",
       "  </tbody>\n",
       "</table>\n",
       "</div>"
      ],
      "text/plain": [
       "   Unnamed: 0        tên  giá bán    ngày tạo    category\n",
       "0           0    Áo thun   150000  2025-09-01  Thời trang\n",
       "1           1  Quần jean   350000  2025-09-05  Thời trang"
      ]
     },
     "execution_count": 12,
     "metadata": {},
     "output_type": "execute_result"
    }
   ],
   "source": [
    "# lọc 2 hàng đầu\n",
    "df_from_csv[:2]"
   ]
  },
  {
   "cell_type": "code",
   "execution_count": 14,
   "id": "d99c0d63",
   "metadata": {},
   "outputs": [
    {
     "data": {
      "text/html": [
       "<div>\n",
       "<style scoped>\n",
       "    .dataframe tbody tr th:only-of-type {\n",
       "        vertical-align: middle;\n",
       "    }\n",
       "\n",
       "    .dataframe tbody tr th {\n",
       "        vertical-align: top;\n",
       "    }\n",
       "\n",
       "    .dataframe thead th {\n",
       "        text-align: right;\n",
       "    }\n",
       "</style>\n",
       "<table border=\"1\" class=\"dataframe\">\n",
       "  <thead>\n",
       "    <tr style=\"text-align: right;\">\n",
       "      <th></th>\n",
       "      <th>Unnamed: 0</th>\n",
       "      <th>tên</th>\n",
       "      <th>giá bán</th>\n",
       "      <th>ngày tạo</th>\n",
       "      <th>category</th>\n",
       "    </tr>\n",
       "  </thead>\n",
       "  <tbody>\n",
       "    <tr>\n",
       "      <th>1</th>\n",
       "      <td>1</td>\n",
       "      <td>Quần jean</td>\n",
       "      <td>350000</td>\n",
       "      <td>2025-09-05</td>\n",
       "      <td>Thời trang</td>\n",
       "    </tr>\n",
       "    <tr>\n",
       "      <th>3</th>\n",
       "      <td>3</td>\n",
       "      <td>Balo laptop</td>\n",
       "      <td>500000</td>\n",
       "      <td>2025-09-15</td>\n",
       "      <td>Phụ kiện</td>\n",
       "    </tr>\n",
       "  </tbody>\n",
       "</table>\n",
       "</div>"
      ],
      "text/plain": [
       "   Unnamed: 0          tên  giá bán    ngày tạo    category\n",
       "1           1    Quần jean   350000  2025-09-05  Thời trang\n",
       "3           3  Balo laptop   500000  2025-09-15    Phụ kiện"
      ]
     },
     "execution_count": 14,
     "metadata": {},
     "output_type": "execute_result"
    }
   ],
   "source": [
    "df_from_csv[1::2]"
   ]
  }
 ],
 "metadata": {
  "kernelspec": {
   "display_name": ".venv",
   "language": "python",
   "name": "python3"
  },
  "language_info": {
   "codemirror_mode": {
    "name": "ipython",
    "version": 3
   },
   "file_extension": ".py",
   "mimetype": "text/x-python",
   "name": "python",
   "nbconvert_exporter": "python",
   "pygments_lexer": "ipython3",
   "version": "3.11.9"
  }
 },
 "nbformat": 4,
 "nbformat_minor": 5
}
