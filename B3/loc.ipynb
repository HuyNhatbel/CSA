{
 "cells": [
  {
   "cell_type": "code",
   "execution_count": 1,
   "id": "418a70c6",
   "metadata": {},
   "outputs": [
    {
     "data": {
      "text/html": [
       "<div>\n",
       "<style scoped>\n",
       "    .dataframe tbody tr th:only-of-type {\n",
       "        vertical-align: middle;\n",
       "    }\n",
       "\n",
       "    .dataframe tbody tr th {\n",
       "        vertical-align: top;\n",
       "    }\n",
       "\n",
       "    .dataframe thead th {\n",
       "        text-align: right;\n",
       "    }\n",
       "</style>\n",
       "<table border=\"1\" class=\"dataframe\">\n",
       "  <thead>\n",
       "    <tr style=\"text-align: right;\">\n",
       "      <th></th>\n",
       "      <th>Unnamed: 0</th>\n",
       "      <th>tên</th>\n",
       "      <th>giá bán</th>\n",
       "      <th>ngày tạo</th>\n",
       "      <th>category</th>\n",
       "    </tr>\n",
       "  </thead>\n",
       "  <tbody>\n",
       "    <tr>\n",
       "      <th>3</th>\n",
       "      <td>3</td>\n",
       "      <td>Balo laptop</td>\n",
       "      <td>500000</td>\n",
       "      <td>2025-09-15</td>\n",
       "      <td>Phụ kiện</td>\n",
       "    </tr>\n",
       "    <tr>\n",
       "      <th>4</th>\n",
       "      <td>4</td>\n",
       "      <td>Mũ lưỡi trai</td>\n",
       "      <td>100000</td>\n",
       "      <td>2025-09-20</td>\n",
       "      <td>Thời trang</td>\n",
       "    </tr>\n",
       "  </tbody>\n",
       "</table>\n",
       "</div>"
      ],
      "text/plain": [
       "   Unnamed: 0           tên  giá bán    ngày tạo    category\n",
       "3           3   Balo laptop   500000  2025-09-15    Phụ kiện\n",
       "4           4  Mũ lưỡi trai   100000  2025-09-20  Thời trang"
      ]
     },
     "execution_count": 1,
     "metadata": {},
     "output_type": "execute_result"
    }
   ],
   "source": [
    "import pandas as pd\n",
    "df = pd.read_csv(\"products.csv\")\n",
    "df.tail(2)"
   ]
  },
  {
   "cell_type": "markdown",
   "id": "3fc67dcf",
   "metadata": {},
   "source": [
    "# Lọc bằng chỉ số (iloc)"
   ]
  },
  {
   "cell_type": "markdown",
   "id": "e9e45f06",
   "metadata": {},
   "source": [
    "`iloc` lọc dữ liệu dựa trên vị trí chỉ số trong DataFrame"
   ]
  },
  {
   "cell_type": "code",
   "execution_count": 5,
   "id": "bb67ea42",
   "metadata": {},
   "outputs": [
    {
     "data": {
      "text/html": [
       "<div>\n",
       "<style scoped>\n",
       "    .dataframe tbody tr th:only-of-type {\n",
       "        vertical-align: middle;\n",
       "    }\n",
       "\n",
       "    .dataframe tbody tr th {\n",
       "        vertical-align: top;\n",
       "    }\n",
       "\n",
       "    .dataframe thead th {\n",
       "        text-align: right;\n",
       "    }\n",
       "</style>\n",
       "<table border=\"1\" class=\"dataframe\">\n",
       "  <thead>\n",
       "    <tr style=\"text-align: right;\">\n",
       "      <th></th>\n",
       "      <th>Unnamed: 0</th>\n",
       "      <th>tên</th>\n",
       "      <th>giá bán</th>\n",
       "      <th>ngày tạo</th>\n",
       "      <th>category</th>\n",
       "    </tr>\n",
       "  </thead>\n",
       "  <tbody>\n",
       "    <tr>\n",
       "      <th>0</th>\n",
       "      <td>0</td>\n",
       "      <td>Áo thun</td>\n",
       "      <td>150000</td>\n",
       "      <td>2025-09-01</td>\n",
       "      <td>Thời trang</td>\n",
       "    </tr>\n",
       "    <tr>\n",
       "      <th>1</th>\n",
       "      <td>1</td>\n",
       "      <td>Quần jean</td>\n",
       "      <td>350000</td>\n",
       "      <td>2025-09-05</td>\n",
       "      <td>Thời trang</td>\n",
       "    </tr>\n",
       "    <tr>\n",
       "      <th>2</th>\n",
       "      <td>2</td>\n",
       "      <td>Giày sneaker</td>\n",
       "      <td>1200000</td>\n",
       "      <td>2025-09-10</td>\n",
       "      <td>Phụ kiện</td>\n",
       "    </tr>\n",
       "  </tbody>\n",
       "</table>\n",
       "</div>"
      ],
      "text/plain": [
       "   Unnamed: 0           tên  giá bán    ngày tạo    category\n",
       "0           0       Áo thun   150000  2025-09-01  Thời trang\n",
       "1           1     Quần jean   350000  2025-09-05  Thời trang\n",
       "2           2  Giày sneaker  1200000  2025-09-10    Phụ kiện"
      ]
     },
     "execution_count": 5,
     "metadata": {},
     "output_type": "execute_result"
    }
   ],
   "source": [
    "df.iloc[:3] #Lấy 3 dòng đầu tiên"
   ]
  },
  {
   "cell_type": "code",
   "execution_count": null,
   "id": "703d7fb0",
   "metadata": {},
   "outputs": [
    {
     "data": {
      "text/html": [
       "<div>\n",
       "<style scoped>\n",
       "    .dataframe tbody tr th:only-of-type {\n",
       "        vertical-align: middle;\n",
       "    }\n",
       "\n",
       "    .dataframe tbody tr th {\n",
       "        vertical-align: top;\n",
       "    }\n",
       "\n",
       "    .dataframe thead th {\n",
       "        text-align: right;\n",
       "    }\n",
       "</style>\n",
       "<table border=\"1\" class=\"dataframe\">\n",
       "  <thead>\n",
       "    <tr style=\"text-align: right;\">\n",
       "      <th></th>\n",
       "      <th>giá bán</th>\n",
       "      <th>ngày tạo</th>\n",
       "      <th>category</th>\n",
       "    </tr>\n",
       "  </thead>\n",
       "  <tbody>\n",
       "    <tr>\n",
       "      <th>2</th>\n",
       "      <td>1200000</td>\n",
       "      <td>2025-09-10</td>\n",
       "      <td>Phụ kiện</td>\n",
       "    </tr>\n",
       "    <tr>\n",
       "      <th>4</th>\n",
       "      <td>100000</td>\n",
       "      <td>2025-09-20</td>\n",
       "      <td>Thời trang</td>\n",
       "    </tr>\n",
       "  </tbody>\n",
       "</table>\n",
       "</div>"
      ],
      "text/plain": [
       "   giá bán    ngày tạo    category\n",
       "2  1200000  2025-09-10    Phụ kiện\n",
       "4   100000  2025-09-20  Thời trang"
      ]
     },
     "execution_count": 4,
     "metadata": {},
     "output_type": "execute_result"
    }
   ],
   "source": [
    "df.iloc[2::2, 2:] #Lấy dòng 2->5 (bước nhảy 2), cột 2 -> cuối"
   ]
  },
  {
   "cell_type": "markdown",
   "id": "f7ddd470",
   "metadata": {},
   "source": [
    "# Lọc bằng nhãn (loc)"
   ]
  },
  {
   "cell_type": "markdown",
   "id": "22663782",
   "metadata": {},
   "source": [
    "`loc` lọc dữ liệu dựa trên nhãn của chỉ số trong DataFrame"
   ]
  },
  {
   "cell_type": "code",
   "execution_count": null,
   "id": "dc078380",
   "metadata": {},
   "outputs": [
    {
     "data": {
      "text/html": [
       "<div>\n",
       "<style scoped>\n",
       "    .dataframe tbody tr th:only-of-type {\n",
       "        vertical-align: middle;\n",
       "    }\n",
       "\n",
       "    .dataframe tbody tr th {\n",
       "        vertical-align: top;\n",
       "    }\n",
       "\n",
       "    .dataframe thead th {\n",
       "        text-align: right;\n",
       "    }\n",
       "</style>\n",
       "<table border=\"1\" class=\"dataframe\">\n",
       "  <thead>\n",
       "    <tr style=\"text-align: right;\">\n",
       "      <th></th>\n",
       "      <th>giá bán</th>\n",
       "      <th>category</th>\n",
       "    </tr>\n",
       "  </thead>\n",
       "  <tbody>\n",
       "    <tr>\n",
       "      <th>3</th>\n",
       "      <td>500000</td>\n",
       "      <td>Phụ kiện</td>\n",
       "    </tr>\n",
       "    <tr>\n",
       "      <th>4</th>\n",
       "      <td>100000</td>\n",
       "      <td>Thời trang</td>\n",
       "    </tr>\n",
       "  </tbody>\n",
       "</table>\n",
       "</div>"
      ],
      "text/plain": [
       "   giá bán    category\n",
       "3   500000    Phụ kiện\n",
       "4   100000  Thời trang"
      ]
     },
     "execution_count": 6,
     "metadata": {},
     "output_type": "execute_result"
    }
   ],
   "source": [
    "df.loc[3: ,[\"giá bán\", \"category\"]] # lấy từ dòng 3 -> cuối, cột giá bán + category"
   ]
  },
  {
   "cell_type": "code",
   "execution_count": null,
   "metadata": {},
   "outputs": [
    {
     "data": {
      "text/html": [
       "<div>\n",
       "<style scoped>\n",
       "    .dataframe tbody tr th:only-of-type {\n",
       "        vertical-align: middle;\n",
       "    }\n",
       "\n",
       "    .dataframe tbody tr th {\n",
       "        vertical-align: top;\n",
       "    }\n",
       "\n",
       "    .dataframe thead th {\n",
       "        text-align: right;\n",
       "    }\n",
       "</style>\n",
       "<table border=\"1\" class=\"dataframe\">\n",
       "  <thead>\n",
       "    <tr style=\"text-align: right;\">\n",
       "      <th></th>\n",
       "      <th>tên</th>\n",
       "      <th>giá bán</th>\n",
       "      <th>ngày tạo</th>\n",
       "    </tr>\n",
       "  </thead>\n",
       "  <tbody>\n",
       "    <tr>\n",
       "      <th>1</th>\n",
       "      <td>Quần jean</td>\n",
       "      <td>350000</td>\n",
       "      <td>2025-09-05</td>\n",
       "    </tr>\n",
       "    <tr>\n",
       "      <th>2</th>\n",
       "      <td>Giày sneaker</td>\n",
       "      <td>1200000</td>\n",
       "      <td>2025-09-10</td>\n",
       "    </tr>\n",
       "    <tr>\n",
       "      <th>3</th>\n",
       "      <td>Balo laptop</td>\n",
       "      <td>500000</td>\n",
       "      <td>2025-09-15</td>\n",
       "    </tr>\n",
       "  </tbody>\n",
       "</table>\n",
       "</div>"
      ],
      "text/plain": [
       "            tên  giá bán    ngày tạo\n",
       "1     Quần jean   350000  2025-09-05\n",
       "2  Giày sneaker  1200000  2025-09-10\n",
       "3   Balo laptop   500000  2025-09-15"
      ]
     },
     "execution_count": 11,
     "metadata": {},
     "output_type": "execute_result"
    }
   ],
   "source": [
    "#lọc có điều kiện\n",
    "df.loc[df[\"giá bán\"] > 250000, \"tên\": \"ngày tạo\"] #lấy dòng nào có giá bán > 250k, cột 0 -> ngày tạo"
   ]
  }
 ],
 "metadata": {
  "kernelspec": {
   "display_name": ".venv",
   "language": "python",
   "name": "python3"
  },
  "language_info": {
   "codemirror_mode": {
    "name": "ipython",
    "version": 3
   },
   "file_extension": ".py",
   "mimetype": "text/x-python",
   "name": "python",
   "nbconvert_exporter": "python",
   "pygments_lexer": "ipython3",
   "version": "3.11.9"
  }
 },
 "nbformat": 4,
 "nbformat_minor": 5
}
