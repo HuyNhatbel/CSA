{
 "cells": [
  {
   "cell_type": "markdown",
   "id": "69beda7e",
   "metadata": {},
   "source": [
    "Tạo series\n",
    "- C1: Tạo bằng list + index\n",
    "- C2: Tạo bằng dict"
   ]
  },
  {
   "cell_type": "code",
   "execution_count": 3,
   "id": "5dfd5bf9",
   "metadata": {},
   "outputs": [
    {
     "data": {
      "text/plain": [
       "{'Hoa': 37,\n",
       " 'Phượng': 38,\n",
       " 'Nam': 48,\n",
       " 'Thu': 40,\n",
       " 'Hải': 42,\n",
       " 'Vũ': 40,\n",
       " 'Linh': 39,\n",
       " 'Bảo': 43,\n",
       " 'Nhân': 41}"
      ]
     },
     "execution_count": 3,
     "metadata": {},
     "output_type": "execute_result"
    }
   ],
   "source": [
    "data = {\n",
    "    \"Hoa\": 37,\n",
    "    \"Phượng\": 38,\n",
    "    \"Nam\": 48,\n",
    "    \"Thu\": 40,\n",
    "    \"Hải\": 42,\n",
    "    \"Vũ\": 40,\n",
    "    \"Linh\": 39,\n",
    "    \"Bảo\": 43,\n",
    "    \"Nhân\": 41\n",
    "}\n",
    "data"
   ]
  },
  {
   "cell_type": "code",
   "execution_count": 4,
   "id": "018cf8af",
   "metadata": {},
   "outputs": [
    {
     "data": {
      "text/plain": [
       "Hoa       37\n",
       "Phượng    38\n",
       "Nam       48\n",
       "Thu       40\n",
       "Hải       42\n",
       "Vũ        40\n",
       "Linh      39\n",
       "Bảo       43\n",
       "Nhân      41\n",
       "dtype: int64"
      ]
     },
     "execution_count": 4,
     "metadata": {},
     "output_type": "execute_result"
    }
   ],
   "source": [
    "weights = data.values()\n",
    "names = data.keys()\n",
    "\n",
    "import pandas as pd\n",
    "series1 = pd.Series(weights, index=names)\n",
    "series1"
   ]
  },
  {
   "cell_type": "code",
   "execution_count": 5,
   "id": "da5d35ad",
   "metadata": {},
   "outputs": [
    {
     "data": {
      "text/plain": [
       "count     9.000000\n",
       "mean     40.888889\n",
       "std       3.257470\n",
       "min      37.000000\n",
       "25%      39.000000\n",
       "50%      40.000000\n",
       "75%      42.000000\n",
       "max      48.000000\n",
       "dtype: float64"
      ]
     },
     "execution_count": 5,
     "metadata": {},
     "output_type": "execute_result"
    }
   ],
   "source": [
    "import pandas as pd\n",
    "series2 = pd.Series(data)\n",
    "series2.describe()"
   ]
  },
  {
   "cell_type": "markdown",
   "id": "1f1aee3f",
   "metadata": {},
   "source": [
    "# Mean - Trung bình cộng"
   ]
  },
  {
   "cell_type": "markdown",
   "id": "bbbdb76b",
   "metadata": {},
   "source": [
    "- Dễ bị ảnh hưởng bởi ``giá trị ngoại lai (outlier)``"
   ]
  },
  {
   "cell_type": "code",
   "execution_count": 6,
   "id": "80b36611",
   "metadata": {},
   "outputs": [
    {
     "data": {
      "text/plain": [
       "np.float64(40.888888888888886)"
      ]
     },
     "execution_count": 6,
     "metadata": {},
     "output_type": "execute_result"
    }
   ],
   "source": [
    "series2.mean()"
   ]
  },
  {
   "cell_type": "markdown",
   "id": "03f3718c",
   "metadata": {},
   "source": [
    "# Median - Trung vị\n",
    "- Cách tính: số ở giữa của danh sách **đã được sắp xếp**\n",
    "- Nếu danh sách có n phần tử (n là **số chẵn**) -> trung bình cộng của 2 số ở giữa\n",
    "- `Ít bị ảnh hưởng bởi outlier hơn mean`"
   ]
  },
  {
   "cell_type": "code",
   "execution_count": 7,
   "id": "c0aadce1",
   "metadata": {},
   "outputs": [
    {
     "data": {
      "text/plain": [
       "np.float64(40.0)"
      ]
     },
     "execution_count": 7,
     "metadata": {},
     "output_type": "execute_result"
    }
   ],
   "source": [
    "series2.median()"
   ]
  },
  {
   "cell_type": "markdown",
   "id": "2bdc75da",
   "metadata": {},
   "source": [
    "# Mode - Giá trị xuất hiện nhiều nhất\n",
    "- Lấy giá trị với tần số cao nhất\n",
    "- `Lấy giá trị phổ biến nhất`"
   ]
  },
  {
   "cell_type": "code",
   "execution_count": 8,
   "id": "ea03e6ca",
   "metadata": {},
   "outputs": [
    {
     "data": {
      "text/plain": [
       "0    40\n",
       "dtype: int64"
      ]
     },
     "execution_count": 8,
     "metadata": {},
     "output_type": "execute_result"
    }
   ],
   "source": [
    "series2.mode()"
   ]
  }
 ],
 "metadata": {
  "kernelspec": {
   "display_name": ".venv",
   "language": "python",
   "name": "python3"
  },
  "language_info": {
   "codemirror_mode": {
    "name": "ipython",
    "version": 3
   },
   "file_extension": ".py",
   "mimetype": "text/x-python",
   "name": "python",
   "nbconvert_exporter": "python",
   "pygments_lexer": "ipython3",
   "version": "3.11.9"
  }
 },
 "nbformat": 4,
 "nbformat_minor": 5
}
