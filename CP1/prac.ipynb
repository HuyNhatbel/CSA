{
 "cells": [
  {
   "cell_type": "code",
   "execution_count": 1,
   "id": "3ee243ee",
   "metadata": {},
   "outputs": [
    {
     "data": {
      "text/html": [
       "<div>\n",
       "<style scoped>\n",
       "    .dataframe tbody tr th:only-of-type {\n",
       "        vertical-align: middle;\n",
       "    }\n",
       "\n",
       "    .dataframe tbody tr th {\n",
       "        vertical-align: top;\n",
       "    }\n",
       "\n",
       "    .dataframe thead th {\n",
       "        text-align: right;\n",
       "    }\n",
       "</style>\n",
       "<table border=\"1\" class=\"dataframe\">\n",
       "  <thead>\n",
       "    <tr style=\"text-align: right;\">\n",
       "      <th></th>\n",
       "      <th>Make</th>\n",
       "      <th>Colour</th>\n",
       "      <th>Odometer</th>\n",
       "      <th>Doors</th>\n",
       "      <th>Price</th>\n",
       "    </tr>\n",
       "  </thead>\n",
       "  <tbody>\n",
       "    <tr>\n",
       "      <th>0</th>\n",
       "      <td>Toyota</td>\n",
       "      <td>White</td>\n",
       "      <td>150043.0</td>\n",
       "      <td>4.0</td>\n",
       "      <td>$4,000</td>\n",
       "    </tr>\n",
       "    <tr>\n",
       "      <th>1</th>\n",
       "      <td>Honda</td>\n",
       "      <td>Red</td>\n",
       "      <td>87899.0</td>\n",
       "      <td>4.0</td>\n",
       "      <td>$5,000</td>\n",
       "    </tr>\n",
       "    <tr>\n",
       "      <th>2</th>\n",
       "      <td>Toyota</td>\n",
       "      <td>Blue</td>\n",
       "      <td>NaN</td>\n",
       "      <td>3.0</td>\n",
       "      <td>$7,000</td>\n",
       "    </tr>\n",
       "    <tr>\n",
       "      <th>3</th>\n",
       "      <td>BMW</td>\n",
       "      <td>Black</td>\n",
       "      <td>11179.0</td>\n",
       "      <td>5.0</td>\n",
       "      <td>$22,000</td>\n",
       "    </tr>\n",
       "    <tr>\n",
       "      <th>4</th>\n",
       "      <td>Nissan</td>\n",
       "      <td>White</td>\n",
       "      <td>213095.0</td>\n",
       "      <td>4.0</td>\n",
       "      <td>$3,500</td>\n",
       "    </tr>\n",
       "  </tbody>\n",
       "</table>\n",
       "</div>"
      ],
      "text/plain": [
       "     Make Colour  Odometer  Doors    Price\n",
       "0  Toyota  White  150043.0    4.0   $4,000\n",
       "1   Honda    Red   87899.0    4.0   $5,000\n",
       "2  Toyota   Blue       NaN    3.0   $7,000\n",
       "3     BMW  Black   11179.0    5.0  $22,000\n",
       "4  Nissan  White  213095.0    4.0   $3,500"
      ]
     },
     "execution_count": 1,
     "metadata": {},
     "output_type": "execute_result"
    }
   ],
   "source": [
    "import pandas as pd\n",
    "df = pd.read_csv(\"car-sales-data.csv\")\n",
    "df.head()"
   ]
  },
  {
   "cell_type": "code",
   "execution_count": 7,
   "id": "21773e09",
   "metadata": {},
   "outputs": [
    {
     "name": "stdout",
     "output_type": "stream",
     "text": [
      "Make            BMW\n",
      "Colour        Black\n",
      "Odometer    11179.0\n",
      "Doors           5.0\n",
      "Price       22000.0\n",
      "Name: 3, dtype: object\n"
     ]
    }
   ],
   "source": [
    "df['Price'] = df['Price'].replace({'$': '', ',': ''}, regex=True).astype(float)\n",
    "highest_price_car = df.loc[df['Price'].idxmax()]\n",
    "print(highest_price_car)"
   ]
  },
  {
   "cell_type": "code",
   "execution_count": 15,
   "id": "3922894e",
   "metadata": {},
   "outputs": [
    {
     "name": "stdout",
     "output_type": "stream",
     "text": [
      "Xe rẻ nhất theo giá/km: Make              Nissan\n",
      "Colour             White\n",
      "Odometer        213095.0\n",
      "Doors                4.0\n",
      "Price             3500.0\n",
      "Price_per_km    0.016425\n",
      "Name: 4, dtype: object\n"
     ]
    }
   ],
   "source": [
    "df['Odometer'] = df['Odometer'].replace({',': ''}, regex=True).astype(float)\n",
    "df['Price_per_km'] = df['Price'] / df['Odometer']\n",
    "min_price_per_km = df.loc[df['Price_per_km'].idxmin()]\n",
    "print(\"Xe rẻ nhất theo giá/km:\", min_price_per_km)"
   ]
  },
  {
   "cell_type": "code",
   "execution_count": 19,
   "id": "a1cd3c5c",
   "metadata": {},
   "outputs": [
    {
     "name": "stdout",
     "output_type": "stream",
     "text": [
      "Giá trung bình theo hãng: Make\n",
      "BMW       22000.000000\n",
      "Honda      6250.000000\n",
      "Toyota     5166.666667\n",
      "Nissan     3500.000000\n",
      "Name: Price, dtype: float64\n",
      "Hãng có giá trung bình cao nhất: BMW\n"
     ]
    }
   ],
   "source": [
    "avg_price_by_make = df.groupby('Make')['Price'].mean().sort_values(ascending=False)\n",
    "print(\"Giá trung bình theo hãng:\", avg_price_by_make)\n",
    "print(\"Hãng có giá trung bình cao nhất:\", avg_price_by_make.idxmax())"
   ]
  }
 ],
 "metadata": {
  "kernelspec": {
   "display_name": "Python 3",
   "language": "python",
   "name": "python3"
  },
  "language_info": {
   "codemirror_mode": {
    "name": "ipython",
    "version": 3
   },
   "file_extension": ".py",
   "mimetype": "text/x-python",
   "name": "python",
   "nbconvert_exporter": "python",
   "pygments_lexer": "ipython3",
   "version": "3.13.7"
  }
 },
 "nbformat": 4,
 "nbformat_minor": 5
}
